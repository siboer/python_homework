{
 "cells": [
  {
   "cell_type": "code",
   "execution_count": 1,
   "metadata": {},
   "outputs": [],
   "source": [
    "import os\n"
   ]
  },
  {
   "cell_type": "code",
   "execution_count": 2,
   "metadata": {},
   "outputs": [
    {
     "data": {
      "text/plain": [
       "<module 'posixpath' from '/Users/huangsibo/practise/ENV/bin/../lib/python3.5/posixpath.py'>"
      ]
     },
     "execution_count": 2,
     "metadata": {},
     "output_type": "execute_result"
    }
   ],
   "source": [
    "os.path"
   ]
  },
  {
   "cell_type": "code",
   "execution_count": 3,
   "metadata": {},
   "outputs": [
    {
     "data": {
      "text/plain": [
       "['',\n",
       " '/Users/huangsibo/practise/ENV/lib/python3.5/site-packages/numpy-1.11.1-py3.5-macosx-10.6-intel.egg',\n",
       " '/Users/huangsibo/practise/ENV/lib/python3.5/site-packages/django_braces-1.10.0-py3.5.egg',\n",
       " '/Users/huangsibo/practise/ENV/lib/python3.5/site-packages/django_admin_bootstrapped-2.5.7-py3.5.egg',\n",
       " '/Users/huangsibo/practise/ENV/lib/python35.zip',\n",
       " '/Users/huangsibo/practise/ENV/lib/python3.5',\n",
       " '/Users/huangsibo/practise/ENV/lib/python3.5/plat-darwin',\n",
       " '/Users/huangsibo/practise/ENV/lib/python3.5/lib-dynload',\n",
       " '/Library/Frameworks/Python.framework/Versions/3.5/lib/python3.5',\n",
       " '/Library/Frameworks/Python.framework/Versions/3.5/lib/python3.5/plat-darwin',\n",
       " '/Users/huangsibo/practise/ENV/lib/python3.5/site-packages',\n",
       " '/Users/huangsibo/practise/ENV/lib/python3.5/site-packages/IPython/extensions',\n",
       " '/Users/huangsibo/.ipython']"
      ]
     },
     "execution_count": 3,
     "metadata": {},
     "output_type": "execute_result"
    }
   ],
   "source": [
    "import sys\n",
    "sys.path"
   ]
  },
  {
   "cell_type": "code",
   "execution_count": 31,
   "metadata": {},
   "outputs": [],
   "source": [
    "sys.path.append(\"/Users/huangsibo/code/file_python/\")"
   ]
  },
  {
   "cell_type": "code",
   "execution_count": 32,
   "metadata": {},
   "outputs": [],
   "source": [
    "from  write_to_orginal_file import find_and_write"
   ]
  },
  {
   "cell_type": "code",
   "execution_count": 33,
   "metadata": {},
   "outputs": [
    {
     "ename": "ValueError",
     "evalue": "must have exactly one of create/read/write/append mode",
     "output_type": "error",
     "traceback": [
      "\u001b[0;31m---------------------------------------------------------------------------\u001b[0m",
      "\u001b[0;31mValueError\u001b[0m                                Traceback (most recent call last)",
      "\u001b[0;32m<ipython-input-33-2444b5fde89d>\u001b[0m in \u001b[0;36m<module>\u001b[0;34m()\u001b[0m\n\u001b[0;32m----> 1\u001b[0;31m \u001b[0mfind_and_write\u001b[0m\u001b[0;34m(\u001b[0m\u001b[0;34m\"huangsibo\"\u001b[0m\u001b[0;34m,\u001b[0m\u001b[0;34m\"raoqingyi\"\u001b[0m\u001b[0;34m,\u001b[0m\u001b[0;34m\"/Users/huangsibo/code/file_python/file\"\u001b[0m\u001b[0;34m)\u001b[0m\u001b[0;34m\u001b[0m\u001b[0m\n\u001b[0m",
      "\u001b[0;32m/Users/huangsibo/code/file_python/write_to_orginal_file.py\u001b[0m in \u001b[0;36mfind_and_write\u001b[0;34m(sstring, newstring, pathname)\u001b[0m\n\u001b[1;32m      9\u001b[0m \u001b[0;34m\u001b[0m\u001b[0m\n\u001b[1;32m     10\u001b[0m \u001b[0;32mdef\u001b[0m \u001b[0mfind_and_write\u001b[0m\u001b[0;34m(\u001b[0m\u001b[0msstring\u001b[0m\u001b[0;34m,\u001b[0m\u001b[0mnewstring\u001b[0m\u001b[0;34m,\u001b[0m\u001b[0mpathname\u001b[0m\u001b[0;34m)\u001b[0m\u001b[0;34m:\u001b[0m\u001b[0;34m\u001b[0m\u001b[0m\n\u001b[0;32m---> 11\u001b[0;31m         \u001b[0;32mwith\u001b[0m \u001b[0mopen\u001b[0m\u001b[0;34m(\u001b[0m\u001b[0mpathname\u001b[0m\u001b[0;34m,\u001b[0m\u001b[0;34m'r'\u001b[0m\u001b[0;34m)\u001b[0m \u001b[0;32mas\u001b[0m \u001b[0mfile\u001b[0m \u001b[0;34m,\u001b[0m\u001b[0mtempfile\u001b[0m\u001b[0;34m.\u001b[0m\u001b[0mTemporaryFile\u001b[0m\u001b[0;34m(\u001b[0m\u001b[0;34m)\u001b[0m \u001b[0;32mas\u001b[0m \u001b[0mtemp\u001b[0m\u001b[0;34m:\u001b[0m\u001b[0;34m\u001b[0m\u001b[0m\n\u001b[0m\u001b[1;32m     12\u001b[0m                 \u001b[0;32mfor\u001b[0m \u001b[0mline\u001b[0m \u001b[0;32min\u001b[0m \u001b[0mfile\u001b[0m\u001b[0;34m:\u001b[0m\u001b[0;34m\u001b[0m\u001b[0m\n\u001b[1;32m     13\u001b[0m                         \u001b[0;32mif\u001b[0m \u001b[0msstring\u001b[0m \u001b[0;32min\u001b[0m \u001b[0mline\u001b[0m\u001b[0;34m:\u001b[0m\u001b[0;34m\u001b[0m\u001b[0m\n",
      "\u001b[0;32m/Users/huangsibo/practise/ENV/lib/python3.5/tempfile.py\u001b[0m in \u001b[0;36mNamedTemporaryFile\u001b[0;34m(mode, buffering, encoding, newline, suffix, prefix, dir, delete)\u001b[0m\n\u001b[1;32m    550\u001b[0m     \u001b[0;32mtry\u001b[0m\u001b[0;34m:\u001b[0m\u001b[0;34m\u001b[0m\u001b[0m\n\u001b[1;32m    551\u001b[0m         file = _io.open(fd, mode, buffering=buffering,\n\u001b[0;32m--> 552\u001b[0;31m                         newline=newline, encoding=encoding)\n\u001b[0m\u001b[1;32m    553\u001b[0m \u001b[0;34m\u001b[0m\u001b[0m\n\u001b[1;32m    554\u001b[0m         \u001b[0;32mreturn\u001b[0m \u001b[0m_TemporaryFileWrapper\u001b[0m\u001b[0;34m(\u001b[0m\u001b[0mfile\u001b[0m\u001b[0;34m,\u001b[0m \u001b[0mname\u001b[0m\u001b[0;34m,\u001b[0m \u001b[0mdelete\u001b[0m\u001b[0;34m)\u001b[0m\u001b[0;34m\u001b[0m\u001b[0m\n",
      "\u001b[0;31mValueError\u001b[0m: must have exactly one of create/read/write/append mode"
     ]
    }
   ],
   "source": [
    "find_and_write(\"huangsibo\",\"raoqingyi\",\"/Users/huangsibo/code/file_python/file\")"
   ]
  },
  {
   "cell_type": "code",
   "execution_count": null,
   "metadata": {},
   "outputs": [],
   "source": []
  }
 ],
 "metadata": {
  "kernelspec": {
   "display_name": "Python 3",
   "language": "python",
   "name": "python3"
  },
  "language_info": {
   "codemirror_mode": {
    "name": "ipython",
    "version": 3
   },
   "file_extension": ".py",
   "mimetype": "text/x-python",
   "name": "python",
   "nbconvert_exporter": "python",
   "pygments_lexer": "ipython3",
   "version": "3.5.2"
  }
 },
 "nbformat": 4,
 "nbformat_minor": 2
}
